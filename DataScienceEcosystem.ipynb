{
 "cells": [
  {
   "cell_type": "markdown",
   "id": "6c7ccb38",
   "metadata": {},
   "source": [
    " # Data Science Tools and Ecosystem"
   ]
  },
  {
   "cell_type": "markdown",
   "id": "d51807d0",
   "metadata": {},
   "source": [
    "In this notebook, Data Science Tools and Ecosystem are summarized ."
   ]
  },
  {
   "cell_type": "markdown",
   "id": "510dbadb",
   "metadata": {},
   "source": [
    "Some of the popular languages that Data Scientists use are:\n",
    "1.Python.\n",
    "2.R.\n",
    "3.SQL.\n",
    "4.Java.\n",
    "5.Julia.\n",
    "6.Scala.\n",
    "7.C/C++.\n",
    "8.JavaScript."
   ]
  },
  {
   "cell_type": "markdown",
   "id": "9cdbd8d8",
   "metadata": {},
   "source": [
    "Some of the commonly used libraries used by Data Scientists include:\n",
    "\n",
    "1.TensorFlow.\n",
    "2.NumPy.\n",
    "3.SciPy.\n",
    "4.Pandas.\n",
    "5.Matplotlib.\n",
    "6.Keras.\n",
    "7.SciKit-Learn.\n",
    "8.PyTorch.\n",
    "9.Scrapy.\n",
    "10.BeautifulSoup."
   ]
  },
  {
   "cell_type": "markdown",
   "id": "672c5db3",
   "metadata": {},
   "source": [
    "Data Science Tools:\n",
    "# Data Science Tools\n",
    "\n",
    "1. SAS. It is one of those data science tools which are     specifically designed for statistical operation\t\t\n",
    "2. Apache Spark\t\t\n",
    "3. BigML"
   ]
  },
  {
   "cell_type": "markdown",
   "id": "9fdde40e",
   "metadata": {},
   "source": [
    "### Below are a few examples of evaluating arithmetic expressions in Python"
   ]
  },
  {
   "cell_type": "code",
   "execution_count": 1,
   "id": "e8cadb6d",
   "metadata": {},
   "outputs": [
    {
     "name": "stdout",
     "output_type": "stream",
     "text": [
      "4\n"
     ]
    }
   ],
   "source": [
    "c = 2+3-1\n",
    "print(c)"
   ]
  },
  {
   "cell_type": "code",
   "execution_count": 2,
   "id": "f07a11c3",
   "metadata": {},
   "outputs": [
    {
     "data": {
      "text/plain": [
       "17"
      ]
     },
     "execution_count": 2,
     "metadata": {},
     "output_type": "execute_result"
    }
   ],
   "source": [
    "# This a simple arithmetic expression to mutiply then add integers\n",
    "\n",
    "(3*4)+5"
   ]
  },
  {
   "cell_type": "code",
   "execution_count": 3,
   "id": "97e27a97",
   "metadata": {},
   "outputs": [
    {
     "name": "stdout",
     "output_type": "stream",
     "text": [
      "0 days, 3.3333333333333335 hours, 0 mins. \n"
     ]
    }
   ],
   "source": [
    "# This will convert 200 minutes to hours by diving by 60\n",
    "\n",
    "days = 0\n",
    "hours = 0\n",
    "mins = 0\n",
    "\n",
    "time = 200\n",
    "#days = time / 1440\n",
    "leftover_minutes = time % 1440\n",
    "hours = leftover_minutes / 60\n",
    "#mins = time - (days*1440) - (hours*60)\n",
    "print(str(days) + \" days, \" + str(hours) + \" hours, \" + str(mins) +  \" mins. \")"
   ]
  },
  {
   "cell_type": "code",
   "execution_count": null,
   "id": "47e1c8fb",
   "metadata": {},
   "outputs": [],
   "source": []
  },
  {
   "cell_type": "markdown",
   "id": "86328181",
   "metadata": {},
   "source": [
    "## Author \n",
    "Shubhangi Gupta"
   ]
  },
  {
   "cell_type": "code",
   "execution_count": null,
   "id": "0bece2e4",
   "metadata": {},
   "outputs": [],
   "source": []
  }
 ],
 "metadata": {
  "kernelspec": {
   "display_name": "Python 3 (ipykernel)",
   "language": "python",
   "name": "python3"
  },
  "language_info": {
   "codemirror_mode": {
    "name": "ipython",
    "version": 3
   },
   "file_extension": ".py",
   "mimetype": "text/x-python",
   "name": "python",
   "nbconvert_exporter": "python",
   "pygments_lexer": "ipython3",
   "version": "3.11.4"
  }
 },
 "nbformat": 4,
 "nbformat_minor": 5
}
